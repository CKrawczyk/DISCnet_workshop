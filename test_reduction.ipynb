{
 "cells": [
  {
   "cell_type": "code",
   "execution_count": 1,
   "metadata": {},
   "outputs": [],
   "source": [
    "import pandas as pd\n",
    "import json"
   ]
  },
  {
   "cell_type": "code",
   "execution_count": 2,
   "metadata": {},
   "outputs": [],
   "source": [
    "path_to_repo = \"/Users/jamie/Desktop/DISCnet_workshop/\""
   ]
  },
  {
   "cell_type": "code",
   "execution_count": 3,
   "metadata": {},
   "outputs": [],
   "source": [
    "# Load origonal file.\n",
    "df = pd.read_csv(f\"{path_to_repo}example_data/many-tools-classifications.csv\")"
   ]
  },
  {
   "cell_type": "code",
   "execution_count": 4,
   "metadata": {},
   "outputs": [],
   "source": [
    "# Convert list of dicts.\n",
    "df2 = df['annotations'].apply(json.loads)"
   ]
  },
  {
   "cell_type": "code",
   "execution_count": 5,
   "metadata": {},
   "outputs": [],
   "source": [
    "# Define new cut datafranme\n",
    "new_df = pd.concat([df[['classification_id', 'user_name']], df2], axis=1)\n",
    "    "
   ]
  },
  {
   "cell_type": "code",
   "execution_count": 28,
   "metadata": {},
   "outputs": [
    {
     "data": {
      "text/plain": [
       "0      Playing\n",
       "1      Playing\n",
       "2        Other\n",
       "3        Other\n",
       "4        Other\n",
       "5      Playing\n",
       "6        Other\n",
       "7        Other\n",
       "8      Playing\n",
       "9     Sleeping\n",
       "10    Sleeping\n",
       "11       Other\n",
       "12     Playing\n",
       "Name: annotations, dtype: object"
      ]
     },
     "execution_count": 28,
     "metadata": {},
     "output_type": "execute_result"
    }
   ],
   "source": [
    "# Example of T0 extraction.\n",
    "new_df['annotations'].apply(lambda x: x[0]['value'])"
   ]
  },
  {
   "cell_type": "code",
   "execution_count": null,
   "metadata": {},
   "outputs": [],
   "source": []
  }
 ],
 "metadata": {
  "kernelspec": {
   "display_name": "matrypoco",
   "language": "python",
   "name": "python3"
  },
  "language_info": {
   "codemirror_mode": {
    "name": "ipython",
    "version": 3
   },
   "file_extension": ".py",
   "mimetype": "text/x-python",
   "name": "python",
   "nbconvert_exporter": "python",
   "pygments_lexer": "ipython3",
   "version": "3.7.11"
  },
  "orig_nbformat": 4,
  "vscode": {
   "interpreter": {
    "hash": "3ba296e3187973e833004bb70955250adb8b93667ab9afb0a7db7e8161fa319f"
   }
  }
 },
 "nbformat": 4,
 "nbformat_minor": 2
}
