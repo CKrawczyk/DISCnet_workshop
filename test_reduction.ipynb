{
 "cells": [
  {
   "cell_type": "code",
   "execution_count": 5,
   "metadata": {},
   "outputs": [],
   "source": [
    "import pandas as pd\n",
    "import json"
   ]
  },
  {
   "cell_type": "code",
   "execution_count": 2,
   "metadata": {},
   "outputs": [],
   "source": [
    "path_to_repo = \"/Users/jamie/Desktop/DISCnet_workshop/\""
   ]
  },
  {
   "cell_type": "code",
   "execution_count": 7,
   "metadata": {},
   "outputs": [],
   "source": [
    "# Load origonal file.\n",
    "df = pd.read_csv(f\"{path_to_repo}example_data/many-tools-classifications.csv\")"
   ]
  },
  {
   "cell_type": "code",
   "execution_count": 30,
   "metadata": {},
   "outputs": [],
   "source": [
    "# Convert list of dicts.\n",
    "df2 = df['annotations'].apply(json.loads)"
   ]
  },
  {
   "cell_type": "code",
   "execution_count": 40,
   "metadata": {},
   "outputs": [],
   "source": [
    "# Loop over tasks.\n",
    "for i in range(5):\n",
    "    new_df = pd.concat([df[['classification_id', 'user_name']], df2], axis=1)"
   ]
  },
  {
   "cell_type": "code",
   "execution_count": 41,
   "metadata": {},
   "outputs": [
    {
     "data": {
      "text/html": [
       "<div>\n",
       "<style scoped>\n",
       "    .dataframe tbody tr th:only-of-type {\n",
       "        vertical-align: middle;\n",
       "    }\n",
       "\n",
       "    .dataframe tbody tr th {\n",
       "        vertical-align: top;\n",
       "    }\n",
       "\n",
       "    .dataframe thead th {\n",
       "        text-align: right;\n",
       "    }\n",
       "</style>\n",
       "<table border=\"1\" class=\"dataframe\">\n",
       "  <thead>\n",
       "    <tr style=\"text-align: right;\">\n",
       "      <th></th>\n",
       "      <th>classification_id</th>\n",
       "      <th>user_name</th>\n",
       "      <th>annotations</th>\n",
       "    </tr>\n",
       "  </thead>\n",
       "  <tbody>\n",
       "    <tr>\n",
       "      <th>0</th>\n",
       "      <td>420702379</td>\n",
       "      <td>cmk24</td>\n",
       "      <td>[{'task': 'T0', 'task_label': 'What is the cat...</td>\n",
       "    </tr>\n",
       "    <tr>\n",
       "      <th>1</th>\n",
       "      <td>420702485</td>\n",
       "      <td>cmk24</td>\n",
       "      <td>[{'task': 'T0', 'task_label': 'What is the cat...</td>\n",
       "    </tr>\n",
       "    <tr>\n",
       "      <th>2</th>\n",
       "      <td>420702563</td>\n",
       "      <td>cmk24</td>\n",
       "      <td>[{'task': 'T0', 'task_label': 'What is the cat...</td>\n",
       "    </tr>\n",
       "    <tr>\n",
       "      <th>3</th>\n",
       "      <td>421138797</td>\n",
       "      <td>cmk24</td>\n",
       "      <td>[{'task': 'T0', 'task_label': 'What is the cat...</td>\n",
       "    </tr>\n",
       "    <tr>\n",
       "      <th>4</th>\n",
       "      <td>421138824</td>\n",
       "      <td>cmk24</td>\n",
       "      <td>[{'task': 'T0', 'task_label': 'What is the cat...</td>\n",
       "    </tr>\n",
       "    <tr>\n",
       "      <th>5</th>\n",
       "      <td>421138966</td>\n",
       "      <td>cmk24</td>\n",
       "      <td>[{'task': 'T0', 'task_label': 'What is the cat...</td>\n",
       "    </tr>\n",
       "    <tr>\n",
       "      <th>6</th>\n",
       "      <td>421138993</td>\n",
       "      <td>cmk24</td>\n",
       "      <td>[{'task': 'T0', 'task_label': 'What is the cat...</td>\n",
       "    </tr>\n",
       "    <tr>\n",
       "      <th>7</th>\n",
       "      <td>421139024</td>\n",
       "      <td>cmk24</td>\n",
       "      <td>[{'task': 'T0', 'task_label': 'What is the cat...</td>\n",
       "    </tr>\n",
       "    <tr>\n",
       "      <th>8</th>\n",
       "      <td>421139045</td>\n",
       "      <td>cmk24</td>\n",
       "      <td>[{'task': 'T0', 'task_label': 'What is the cat...</td>\n",
       "    </tr>\n",
       "    <tr>\n",
       "      <th>9</th>\n",
       "      <td>421139066</td>\n",
       "      <td>cmk24</td>\n",
       "      <td>[{'task': 'T0', 'task_label': 'What is the cat...</td>\n",
       "    </tr>\n",
       "    <tr>\n",
       "      <th>10</th>\n",
       "      <td>421139114</td>\n",
       "      <td>cmk24</td>\n",
       "      <td>[{'task': 'T0', 'task_label': 'What is the cat...</td>\n",
       "    </tr>\n",
       "    <tr>\n",
       "      <th>11</th>\n",
       "      <td>421139128</td>\n",
       "      <td>cmk24</td>\n",
       "      <td>[{'task': 'T0', 'task_label': 'What is the cat...</td>\n",
       "    </tr>\n",
       "    <tr>\n",
       "      <th>12</th>\n",
       "      <td>421139142</td>\n",
       "      <td>cmk24</td>\n",
       "      <td>[{'task': 'T0', 'task_label': 'What is the cat...</td>\n",
       "    </tr>\n",
       "  </tbody>\n",
       "</table>\n",
       "</div>"
      ],
      "text/plain": [
       "    classification_id user_name  \\\n",
       "0           420702379     cmk24   \n",
       "1           420702485     cmk24   \n",
       "2           420702563     cmk24   \n",
       "3           421138797     cmk24   \n",
       "4           421138824     cmk24   \n",
       "5           421138966     cmk24   \n",
       "6           421138993     cmk24   \n",
       "7           421139024     cmk24   \n",
       "8           421139045     cmk24   \n",
       "9           421139066     cmk24   \n",
       "10          421139114     cmk24   \n",
       "11          421139128     cmk24   \n",
       "12          421139142     cmk24   \n",
       "\n",
       "                                          annotations  \n",
       "0   [{'task': 'T0', 'task_label': 'What is the cat...  \n",
       "1   [{'task': 'T0', 'task_label': 'What is the cat...  \n",
       "2   [{'task': 'T0', 'task_label': 'What is the cat...  \n",
       "3   [{'task': 'T0', 'task_label': 'What is the cat...  \n",
       "4   [{'task': 'T0', 'task_label': 'What is the cat...  \n",
       "5   [{'task': 'T0', 'task_label': 'What is the cat...  \n",
       "6   [{'task': 'T0', 'task_label': 'What is the cat...  \n",
       "7   [{'task': 'T0', 'task_label': 'What is the cat...  \n",
       "8   [{'task': 'T0', 'task_label': 'What is the cat...  \n",
       "9   [{'task': 'T0', 'task_label': 'What is the cat...  \n",
       "10  [{'task': 'T0', 'task_label': 'What is the cat...  \n",
       "11  [{'task': 'T0', 'task_label': 'What is the cat...  \n",
       "12  [{'task': 'T0', 'task_label': 'What is the cat...  "
      ]
     },
     "execution_count": 41,
     "metadata": {},
     "output_type": "execute_result"
    }
   ],
   "source": [
    "new_df"
   ]
  },
  {
   "cell_type": "code",
   "execution_count": null,
   "metadata": {},
   "outputs": [],
   "source": []
  }
 ],
 "metadata": {
  "kernelspec": {
   "display_name": "matrypoco",
   "language": "python",
   "name": "python3"
  },
  "language_info": {
   "codemirror_mode": {
    "name": "ipython",
    "version": 3
   },
   "file_extension": ".py",
   "mimetype": "text/x-python",
   "name": "python",
   "nbconvert_exporter": "python",
   "pygments_lexer": "ipython3",
   "version": "3.7.11"
  },
  "orig_nbformat": 4,
  "vscode": {
   "interpreter": {
    "hash": "3ba296e3187973e833004bb70955250adb8b93667ab9afb0a7db7e8161fa319f"
   }
  }
 },
 "nbformat": 4,
 "nbformat_minor": 2
}
